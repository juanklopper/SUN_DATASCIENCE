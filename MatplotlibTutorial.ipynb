{
 "cells": [
  {
   "cell_type": "markdown",
   "id": "5252158e-95ec-4f72-b943-f6b668e58f53",
   "metadata": {},
   "source": [
    "<div class=\"alert alert-danger\">\n",
    "  <strong><h1>MATPLOTLIB TUTORIAL FOR NEWCOMERS</h1></strong>\n",
    "</div>"
   ]
  },
  {
   "cell_type": "markdown",
   "id": "c6728cce",
   "metadata": {},
   "source": [
    ">by Dr Juan H Klopper\n",
    "\n",
    "- Research Fellow\n",
    "- School for Data Science and Computational Thinking\n",
    "- Division of Biostatistics and Epidemiology"
   ]
  },
  {
   "cell_type": "markdown",
   "id": "4a72eeb0",
   "metadata": {},
   "source": [
    "<img src='SUN.png' width=400>"
   ]
  },
  {
   "cell_type": "markdown",
   "id": "70447879",
   "metadata": {},
   "source": [
    "## INTRODUCTION"
   ]
  },
  {
   "cell_type": "markdown",
   "id": "ae7a8b4d",
   "metadata": {},
   "source": [
    "The matplotlib package is arguably the best known and the largest plotting package in the Python ecosystem. In this notebook I touch on some of the useful aspects when using matplotlib. It is an enormous package and I will concentrate on topics pertaining to its use in science in general."
   ]
  },
  {
   "cell_type": "markdown",
   "id": "ac17682f",
   "metadata": {},
   "source": [
    "The [matplotlib homepage](https://matplotlib.org/stable/gallery/index.html#examples-index) lists many examples. [Full documentation](https://matplotlib.org/stable/Matplotlib.pdf) is available as a PDF file for download."
   ]
  },
  {
   "cell_type": "markdown",
   "id": "f914d396",
   "metadata": {},
   "source": [
    "We can set values for almost all of the aspects of a plot when creating the plot. Some of these can also be set on a global scale using the `rcParams` class. A full list of these parameters can be viewed [here](https://matplotlib.org/stable/api/matplotlib_configuration_api.html). All the settings are actually saved in a file called `matplotlibrc`. To customise this file, read [here](https://matplotlib.org/stable/tutorials/introductory/customizing.html). You can find this file by running the code cell below."
   ]
  },
  {
   "cell_type": "code",
   "execution_count": null,
   "id": "1f835a2d",
   "metadata": {},
   "outputs": [],
   "source": [
    "import matplotlib\n",
    "matplotlib.matplotlib_fname()"
   ]
  },
  {
   "cell_type": "markdown",
   "id": "781a62ee",
   "metadata": {},
   "source": [
    "There are many other plotting packages available in Python. A few are listed below:\n",
    "\n",
    "- [Plotly](https://plotly.com/python/)\n",
    "- [Seaborn](https://seaborn.pydata.org)\n",
    "- [Bokeh](https://docs.bokeh.org/en/latest/)\n",
    "- [Altair](https://altair-viz.github.io)"
   ]
  },
  {
   "cell_type": "markdown",
   "id": "1540cb53",
   "metadata": {},
   "source": [
    "## TABLE OF CONTENTS"
   ]
  },
  {
   "cell_type": "markdown",
   "id": "c53a4250",
   "metadata": {},
   "source": [
    "A set of links to the sections and subsections in this notebook."
   ]
  },
  {
   "cell_type": "markdown",
   "id": "e6815586",
   "metadata": {},
   "source": [
    "- [PACKAGES USED IN THIS NOTEBOOK](#PACKAGES-USED-IN-THIS-NOTEBOOK)\n",
    "- [QUICK PLOTS WITH THE PYPLOT INTERFACE](#QUICK-PLOTS-WITH-THE-PYPLOT-INTERFACE)\n",
    "    - [LINE AND SCATTER PLOTS](#LINE-AND-SCATTER-PLOTS)\n",
    "    - [FREQUENCY PLOTS](#FREQUENCY-PLOTS)\n",
    "    - [BAR PLOTS FOR STATISTICS](#BAR-PLOTS-FOR-STATISTICS)\n",
    "    - [BOX AND WHISKER PLOTS](#BOX-AND-WHISKER-PLOTS)\n",
    "- [OBJECT ORIENTED INTERFACE](#OBJECT-ORIENTED-INTERFACE)\n",
    "- [PLOTS FOR FUNCTIONS AND VECTORS](#PLOTS-FOR-FUNCTIONS-AND-VECTORS)\n",
    "    - [CONTOUR PLOTS](#CONTOUR-PLOTS)\n",
    "    - [QUIVER PLOTS](#QUIVER-PLOTS)\n",
    "    - [STREAM PLOTS](#STREAM-PLOTS)"
   ]
  },
  {
   "cell_type": "markdown",
   "id": "02a1b59b-ff70-4f90-9c65-cd307381b2b4",
   "metadata": {},
   "source": [
    "## PACKAGES USED IN THIS NOTEBOOK"
   ]
  },
  {
   "cell_type": "code",
   "execution_count": null,
   "id": "2e1d639b-c6a0-43d1-96d6-48ee06075022",
   "metadata": {},
   "outputs": [],
   "source": [
    "import os # Interacting with the operating system and directory structure"
   ]
  },
  {
   "cell_type": "code",
   "execution_count": null,
   "id": "ec68c92f",
   "metadata": {},
   "outputs": [],
   "source": [
    "import sympy as sym # Symbolic python (computer algebra system)"
   ]
  },
  {
   "cell_type": "code",
   "execution_count": null,
   "id": "4921ba8d-4c96-46eb-bc94-ae0c13f723f3",
   "metadata": {},
   "outputs": [],
   "source": [
    "import numpy as np # Numerical computation"
   ]
  },
  {
   "cell_type": "code",
   "execution_count": null,
   "id": "b585b567-94b6-4400-8e6c-2848f415058f",
   "metadata": {},
   "outputs": [],
   "source": [
    "import matplotlib.pyplot as plt # Plotting package"
   ]
  },
  {
   "cell_type": "code",
   "execution_count": null,
   "id": "70586fab",
   "metadata": {},
   "outputs": [],
   "source": [
    "import matplotlib.gridspec as gridspec"
   ]
  },
  {
   "cell_type": "code",
   "execution_count": null,
   "id": "52002687-3140-430d-8ff1-e719a0a374c6",
   "metadata": {},
   "outputs": [],
   "source": [
    "%config InlineBackend.figure_format = 'retina'"
   ]
  },
  {
   "cell_type": "markdown",
   "id": "abfc7563-f906-40e8-9051-39dd46b6c9f6",
   "metadata": {},
   "source": [
    "The `style.available` attribute from the pyplot module shows a list of all the available plot styles. Note that this Python environment has the scienceplots package installed using pip. A Tex installation is required for many of these themes."
   ]
  },
  {
   "cell_type": "code",
   "execution_count": null,
   "id": "186ad881-be32-469b-8d4e-c7d1636fa5bb",
   "metadata": {},
   "outputs": [],
   "source": [
    "plt.style.available"
   ]
  },
  {
   "cell_type": "markdown",
   "id": "893ce786",
   "metadata": {},
   "source": [
    "I will use the classic plotting style."
   ]
  },
  {
   "cell_type": "code",
   "execution_count": null,
   "id": "89fb6bd7-fbe8-4b3c-b833-7e2196c31eff",
   "metadata": {},
   "outputs": [],
   "source": [
    "plt.style.use(['classic'])"
   ]
  },
  {
   "cell_type": "markdown",
   "id": "752161bf",
   "metadata": {},
   "source": [
    "A backend can also be set for matplotlib. The current backend is set to generate plots inline with the notebook cells."
   ]
  },
  {
   "cell_type": "markdown",
   "id": "1b43da4d",
   "metadata": {},
   "source": [
    "The default is to have plot generated in line with the cells that generate them. The code below is the default behavior and need to be executed."
   ]
  },
  {
   "cell_type": "code",
   "execution_count": null,
   "id": "7addfa67",
   "metadata": {},
   "outputs": [],
   "source": [
    "%matplotlib inline"
   ]
  },
  {
   "cell_type": "code",
   "execution_count": null,
   "id": "4737bed3",
   "metadata": {},
   "outputs": [],
   "source": [
    "import matplotlib\n",
    "matplotlib.get_backend()"
   ]
  },
  {
   "cell_type": "markdown",
   "id": "268d40ed",
   "metadata": {},
   "source": [
    "We can set `%matplotlib notebook`. The `get_backend` function then returns `nbAgg`. Each plot will now be interactive and has to be shut down (button on the top right corner), before a new plot can be created."
   ]
  },
  {
   "cell_type": "markdown",
   "id": "5890aa87-5222-42f6-824f-eac3a142cc47",
   "metadata": {},
   "source": [
    "## QUICK PLOTS WITH THE PYPLOT INTERFACE"
   ]
  },
  {
   "cell_type": "markdown",
   "id": "b34e9dce",
   "metadata": {},
   "source": [
    "There are many ways to use matplotlib. We start by exploring the __pyplot interface__. We will take a look ar tge __object oriented interface__ later. It allows for more control, but requires more code."
   ]
  },
  {
   "cell_type": "markdown",
   "id": "ef82a34d",
   "metadata": {},
   "source": [
    "A list of links to pyplot plots and settings is available [here](https://matplotlib.org/stable/api/_as_gen/matplotlib.pyplot.html)."
   ]
  },
  {
   "cell_type": "markdown",
   "id": "110db090-695c-4939-b0ef-9151e6a2b89b",
   "metadata": {},
   "source": [
    "### LINE AND SCATTER PLOTS"
   ]
  },
  {
   "cell_type": "markdown",
   "id": "f99b0253-f6b2-4b61-b628-04232076c1ca",
   "metadata": {},
   "source": [
    "We generate points that serve as _x_ axis values for the expression $\\sin{\\left( x \\right)}$ with some random noise taken from the standard normal distribution."
   ]
  },
  {
   "cell_type": "code",
   "execution_count": null,
   "id": "fa7b0d16-46d6-4100-ae56-c452ee8f4d84",
   "metadata": {},
   "outputs": [],
   "source": [
    "xvals = np.linspace(0, 4 * np.pi, 50) # Start, stop, number of points\n",
    "yvals_1 = np.sin(xvals) + np.random.randn(len(xvals)) * 0.1 # Experiment 1\n",
    "yvals_2 = np.sin(xvals) + np.random.randn(len(xvals)) * 0.1 # Experiment 2"
   ]
  },
  {
   "cell_type": "markdown",
   "id": "8e548cb0-6a2c-4674-80fc-f329928387cc",
   "metadata": {},
   "source": [
    "We start with a bare bones line chart. While we onlu have $50$ data points, the `plot` function will interpolate values to create a continuous line."
   ]
  },
  {
   "cell_type": "code",
   "execution_count": null,
   "id": "fafecd2f-d81a-48a7-911d-fba0eb34b797",
   "metadata": {},
   "outputs": [],
   "source": [
    "plt.plot(xvals, yvals_1)"
   ]
  },
  {
   "cell_type": "markdown",
   "id": "abef83f5",
   "metadata": {},
   "source": [
    "Placing a semicolon after the lat plot command suprresses the extra information printed to the screen."
   ]
  },
  {
   "cell_type": "code",
   "execution_count": null,
   "id": "8e1c613d",
   "metadata": {},
   "outputs": [],
   "source": [
    "plt.plot(xvals, yvals_1); # Semicolon supresses other output to the screen"
   ]
  },
  {
   "cell_type": "markdown",
   "id": "782a668d-b7fa-4814-8890-fe2e523fa1fa",
   "metadata": {},
   "source": [
    "We can add a variety of arguments to the `plot` function. We start by changing the line style. Below, the `linestyle` argument is set to `solid`."
   ]
  },
  {
   "cell_type": "code",
   "execution_count": null,
   "id": "9ee6e8d3",
   "metadata": {},
   "outputs": [],
   "source": [
    "plt.plot(xvals, yvals_1, linestyle='solid');"
   ]
  },
  {
   "cell_type": "markdown",
   "id": "e9cc143e",
   "metadata": {},
   "source": [
    "We can use the shorthand `-` notation instead of the string `solid`."
   ]
  },
  {
   "cell_type": "code",
   "execution_count": null,
   "id": "b94c7685",
   "metadata": {},
   "outputs": [],
   "source": [
    "plt.plot(xvals, yvals_1, linestyle='-');"
   ]
  },
  {
   "cell_type": "markdown",
   "id": "28ddb43e",
   "metadata": {},
   "source": [
    "Setting the argument value to `dashed` or using `--` produces an evenly spaced dashed line."
   ]
  },
  {
   "cell_type": "code",
   "execution_count": null,
   "id": "a86615a1",
   "metadata": {},
   "outputs": [],
   "source": [
    "plt.plot(xvals, yvals_1, linestyle='dashed');"
   ]
  },
  {
   "cell_type": "code",
   "execution_count": null,
   "id": "5a78e647",
   "metadata": {},
   "outputs": [],
   "source": [
    "plt.plot(xvals, yvals_1, linestyle='--');"
   ]
  },
  {
   "cell_type": "markdown",
   "id": "4aeaf8e9",
   "metadata": {},
   "source": [
    "We can also use `dotted` and `dashdot`."
   ]
  },
  {
   "cell_type": "code",
   "execution_count": null,
   "id": "b0c580f8",
   "metadata": {},
   "outputs": [],
   "source": [
    "plt.plot(xvals, yvals_1, linestyle='dotted');"
   ]
  },
  {
   "cell_type": "code",
   "execution_count": null,
   "id": "434eb474",
   "metadata": {},
   "outputs": [],
   "source": [
    "plt.plot(xvals, yvals_1, linestyle=':');"
   ]
  },
  {
   "cell_type": "code",
   "execution_count": null,
   "id": "f6844186",
   "metadata": {},
   "outputs": [],
   "source": [
    "plt.plot(xvals, yvals_1, linestyle='dashdot');"
   ]
  },
  {
   "cell_type": "code",
   "execution_count": null,
   "id": "2016de53",
   "metadata": {},
   "outputs": [],
   "source": [
    "plt.plot(xvals, yvals_1, linestyle='-.');"
   ]
  },
  {
   "cell_type": "markdown",
   "id": "33ffebec",
   "metadata": {},
   "source": [
    "In fact, we can use a tuple to parameterize the length of dashes and spaces, as well as an offset. Below, we have $0$ offset, then a dash of $3$ points, a space of $5$ points, a dash of 1 point, and the space $5$ points. We also introduce the `linewidth` argument and set it to `2`."
   ]
  },
  {
   "cell_type": "code",
   "execution_count": null,
   "id": "08b8b352",
   "metadata": {},
   "outputs": [],
   "source": [
    "plt.plot(xvals, yvals_1, linestyle=(0, (0, 3, 5, 1, 5)));"
   ]
  },
  {
   "cell_type": "markdown",
   "id": "b76ac530",
   "metadata": {},
   "source": [
    "We have used the plot function to generate a continuous line (even with dashes and dots) to interpolate values between our $50$ data points. We can place markers on the actual data points. There are numerous markers. A list of all the markers are available [here](https://matplotlib.org/stable/api/markers_api.html). Below, we commence with a point, setting the `marker` argument to `.`"
   ]
  },
  {
   "cell_type": "code",
   "execution_count": null,
   "id": "242c4334",
   "metadata": {},
   "outputs": [],
   "source": [
    "plt.plot(xvals, yvals_1, linestyle='-', marker='.');"
   ]
  },
  {
   "cell_type": "markdown",
   "id": "81df9c58",
   "metadata": {},
   "source": [
    "We can increase the marker size by setting the `markersize` argument."
   ]
  },
  {
   "cell_type": "code",
   "execution_count": null,
   "id": "c9f1901a",
   "metadata": {},
   "outputs": [],
   "source": [
    "plt.plot(xvals, yvals_1, linestyle='-', marker='.', markersize=10); # Using 10pt"
   ]
  },
  {
   "cell_type": "markdown",
   "id": "17513938",
   "metadata": {},
   "source": [
    "Instead of a point, we can use a circle, setting the `marker` argument to `o`."
   ]
  },
  {
   "cell_type": "code",
   "execution_count": null,
   "id": "3a5a4f61",
   "metadata": {},
   "outputs": [],
   "source": [
    "plt.plot(xvals, yvals_1, linestyle='-', marker='o', markersize=5);"
   ]
  },
  {
   "cell_type": "markdown",
   "id": "5be17ee5",
   "metadata": {},
   "source": [
    "There are shorthand keyword arguments. Below we use `ls` for `linestyle`, `ms` for `marker`, and `lw` for `linewidth`. We also set the marker to `x`."
   ]
  },
  {
   "cell_type": "code",
   "execution_count": null,
   "id": "8815e4ab",
   "metadata": {},
   "outputs": [],
   "source": [
    "plt.plot(xvals, yvals_1, ls='-', marker='x', ms=8, lw=1);"
   ]
  },
  {
   "cell_type": "markdown",
   "id": "cedeb624",
   "metadata": {},
   "source": [
    "The markers module in the matplotlib package provides direct use of marker names."
   ]
  },
  {
   "cell_type": "code",
   "execution_count": null,
   "id": "5a393b90",
   "metadata": {},
   "outputs": [],
   "source": [
    "plt.plot(xvals, yvals_1, ls='-', marker=matplotlib.markers.CARETDOWNBASE, ms=8, lw=1);"
   ]
  },
  {
   "cell_type": "markdown",
   "id": "565b148b",
   "metadata": {},
   "source": [
    "It is common to see shorthand positional argument notation for combinating the interpolated lines and markers."
   ]
  },
  {
   "cell_type": "code",
   "execution_count": null,
   "id": "3d84075e",
   "metadata": {},
   "outputs": [],
   "source": [
    "plt.plot(xvals, yvals_1, 'x-', ms=8, lw=1);"
   ]
  },
  {
   "cell_type": "markdown",
   "id": "44e8c805",
   "metadata": {},
   "source": [
    "A title and axes labels can be added using the `title`, `xlabel` and `ylabel` function in the pyplot module. These functions allow for the use of TeX notation. TeX is enclosed in a pair of `$` symbols. A full list of the subset of TeX markup that can be used in matplotlib is available [here](https://matplotlib.org/stable/tutorials/text/mathtext.html)."
   ]
  },
  {
   "cell_type": "code",
   "execution_count": null,
   "id": "3ff8a8ee",
   "metadata": {},
   "outputs": [],
   "source": [
    "plt.plot(xvals, yvals_1, 'x-', ms=8, lw=1)\n",
    "plt.title(r'Position at time $t$')\n",
    "plt.xlabel(r'Time $\\left[ \\mu s \\right]$')\n",
    "plt.ylabel(r'Position $\\left[ m \\right]$');"
   ]
  },
  {
   "cell_type": "markdown",
   "id": "18832c2f",
   "metadata": {},
   "source": [
    "The title and axes labels are too small. We can use the `fontdict` argument to change font parameters. Note that we could also simply use the `size` argument."
   ]
  },
  {
   "cell_type": "code",
   "execution_count": null,
   "id": "2b455cf7",
   "metadata": {},
   "outputs": [],
   "source": [
    "title_font_size = 16 # Setting a default title font size\n",
    "plt.plot(xvals, yvals_1, 'x-', ms=8, lw=1)\n",
    "plt.title(r'Position at time $t$', fontdict={'size':title_font_size})\n",
    "plt.xlabel(r'Time $\\left[ \\mu s \\right]$', fontdict={'size':title_font_size - 4})\n",
    "plt.ylabel(r'Position $\\left[ m \\right]$', size=title_font_size - 4);"
   ]
  },
  {
   "cell_type": "markdown",
   "id": "7b886ff3",
   "metadata": {},
   "source": [
    "The `legend` function generates a legend. For this, we need to set a label name in the `plot` function. Below, we set to legend position and font size."
   ]
  },
  {
   "cell_type": "code",
   "execution_count": null,
   "id": "8a037494",
   "metadata": {},
   "outputs": [],
   "source": [
    "title_font_size = 16 # Setting a default title font size\n",
    "plt.plot(xvals, yvals_1, 'x-', ms=8, lw=1, label='Experiment 1')\n",
    "plt.title(r'Position at time $t$', fontdict={'size':title_font_size})\n",
    "plt.xlabel(r'Time $\\left[ \\mu s \\right]$', fontdict={'size':title_font_size - 4})\n",
    "plt.ylabel(r'Position $\\left[ m \\right]$', fontdict={'size':title_font_size - 4})\n",
    "plt.legend(loc='upper right', fontsize=10);"
   ]
  },
  {
   "cell_type": "markdown",
   "id": "fc0959ea",
   "metadata": {},
   "source": [
    "To add a second data set, we simple use another `plot` function."
   ]
  },
  {
   "cell_type": "markdown",
   "id": "28f0072f",
   "metadata": {},
   "source": [
    "Below, we combine all of our knowledge and add a grid and change the axes ticks to face outwards. We also use keywords for the color of each data set and we use the `figure` function to set the `figsize` argument. This argument takes a tuple, indicating the width and height of the figure."
   ]
  },
  {
   "cell_type": "code",
   "execution_count": null,
   "id": "d06984e8-71bc-48b2-b831-e77367b164cf",
   "metadata": {},
   "outputs": [],
   "source": [
    "marker_type = 'o--' # Dashes with dots at actual values\n",
    "color_1 = 'dodgerblue' # Color\n",
    "color_2 = 'orangered' # Color\n",
    "lw = 1 # Line width\n",
    "ms = 5 # Marker size\n",
    "label_1 = 'Experiment 1' # Label for values\n",
    "label_2 = 'Experiment 2' # lable for values"
   ]
  },
  {
   "cell_type": "code",
   "execution_count": null,
   "id": "73bdb1d9-123d-4976-8028-45a450397a6a",
   "metadata": {},
   "outputs": [],
   "source": [
    "plt.figure(figsize=(10, 6)) # Size of the plot\n",
    "plt.plot(xvals, yvals_1, marker_type, color=color_1, lw=lw, ms=ms, label=label_1)\n",
    "plt.plot(xvals, yvals_2, marker_type, color=color_2, lw=lw, ms=ms, label=label_2)\n",
    "plt.legend(loc='upper right', fontsize=10) # Legend with position and font size\n",
    "plt.xlabel(r'Time $\\left[ \\mu s \\right]$', fontdict={'size':12}) # x axis title with TeX\n",
    "plt.ylabel(r'Position [cm]', fontdict={'size':12})# y axis title\n",
    "plt.title(r'Position over time $\\left[ \\mu s \\right]$', fontdict={'size':16}) # Plot title\n",
    "plt.grid() # Add x and y grid lines\n",
    "plt.tick_params(which='both', direction='out'); # Ticks face into plot area"
   ]
  },
  {
   "cell_type": "markdown",
   "id": "bce905f1-1bf4-4c27-aa59-b5eaabea9a53",
   "metadata": {},
   "source": [
    "There are eight _shortcut_ color keywords: `k` for black, `w` for white, `r` for red, `g` for green,  `b` for blue, `c` for cyan, `m` for magenta, and `y` for yellow. By using a fraction such as `color='0.5` we set a shade of grey. We can also specify HEX colors such as `color='#aabbcc'`. Finally there are a list of named colors. The list is available [here](https://en.wikipedia.org/wiki/Web_colors)."
   ]
  },
  {
   "cell_type": "markdown",
   "id": "a8cfd977-c287-4ac2-afae-804d2753c5c9",
   "metadata": {},
   "source": [
    "Below, we add a model, $\\sin{\\left( x \\right)}$, indicated by more points and a solid line. We also remove the dashed lines of the data interpolation."
   ]
  },
  {
   "cell_type": "code",
   "execution_count": null,
   "id": "263b4060-4472-4608-8071-7c017d8dac10",
   "metadata": {},
   "outputs": [],
   "source": [
    "xvals_model = np.linspace(0, 4 * np.pi, 200)\n",
    "yvals_model = np.sin(xvals_model)"
   ]
  },
  {
   "cell_type": "code",
   "execution_count": null,
   "id": "2621acba-2058-44d3-9b2c-4a95c5b40de4",
   "metadata": {},
   "outputs": [],
   "source": [
    "plt.figure(figsize=(10, 6)) # Size of the plot\n",
    "plt.plot(xvals, yvals_1, 'o', color=color_1, ms=ms, label=label_1)\n",
    "plt.plot(xvals, yvals_2, 'o', color=color_2, ms=ms, label=label_2)\n",
    "plt.plot(xvals_model, yvals_model, '-', color='#555555', lw=2, label='Model')\n",
    "plt.legend(loc='upper right', fontsize=10, ncol=3) # Legend with position and font size and columns\n",
    "plt.xlabel(r'Time $\\left[ \\mu s \\right]$', fontdict={'size':12}) # x axis title with TeX\n",
    "plt.ylabel('Position [cm]', fontdict={'size':12})# y axis title\n",
    "plt.ylim(top=1.5) # Adding space for the legend\n",
    "plt.title('Position over time and model', fontdict={'size':16}) # Plot title\n",
    "plt.grid()\n",
    "plt.tick_params(which='both', direction='in');"
   ]
  },
  {
   "cell_type": "markdown",
   "id": "b1254327-a412-4b77-b58c-a532bcf51be5",
   "metadata": {},
   "source": [
    "Without the interpolated lines, these plots are actually scatter plots. Below, we generate data for an independent and a dependent variable."
   ]
  },
  {
   "cell_type": "code",
   "execution_count": null,
   "id": "bdacd463-db25-4c3e-a029-6aa9c507882d",
   "metadata": {},
   "outputs": [],
   "source": [
    "indep = np.random.randint(100, 300, 50) / 2\n",
    "dep = indep * 0.8 + np.random.randint(-10, 10, 50)"
   ]
  },
  {
   "cell_type": "code",
   "execution_count": null,
   "id": "5adb556e-0c11-4760-a4b5-a53046ba669f",
   "metadata": {},
   "outputs": [],
   "source": [
    "plt.figure(figsize=(5, 5))\n",
    "plt.plot(indep, dep, 'o')\n",
    "plt.title('Scatter plot')\n",
    "plt.xlabel('Independent variable')\n",
    "plt.ylabel('Dependent variable')\n",
    "plt.grid(True, color='0.5', dashes=(5, 2, 1, 2)) # For dashes we set a tuple of line and break lengths\n",
    "plt.tick_params(which='both', direction='out');"
   ]
  },
  {
   "cell_type": "markdown",
   "id": "6cc5a716",
   "metadata": {},
   "source": [
    "The `scatter` function also generates scatter plots. We can visualise another numerical variable by setting the size of the markers. A fourth numerical variable can be included by coloring the markers."
   ]
  },
  {
   "cell_type": "code",
   "execution_count": null,
   "id": "28fd35cb",
   "metadata": {},
   "outputs": [],
   "source": [
    "indep2 = np.random.randint(50, 200, 50)\n",
    "indep3 = np.random.randint(1000, 2000, 50)"
   ]
  },
  {
   "cell_type": "code",
   "execution_count": null,
   "id": "55f70320",
   "metadata": {},
   "outputs": [],
   "source": [
    "plt.figure(figsize=(5, 5))\n",
    "plt.scatter(indep, dep, s=indep2, c=indep3, alpha=0.5)\n",
    "plt.title('Scatter plot')\n",
    "plt.xlabel('Independent variable')\n",
    "plt.ylabel('Dependent variable')\n",
    "plt.grid()\n",
    "plt.tick_params(which='both', direction='out');"
   ]
  },
  {
   "cell_type": "markdown",
   "id": "5b7ea858",
   "metadata": {},
   "source": [
    "The `colorbar` function adds a color bar for the _fourth_ dimension used here for the `indep3` variable."
   ]
  },
  {
   "cell_type": "code",
   "execution_count": null,
   "id": "a00fcf25",
   "metadata": {},
   "outputs": [],
   "source": [
    "plt.figure(figsize=(5, 5))\n",
    "plt.scatter(indep, dep, s=indep2, c=indep3, alpha=0.5)\n",
    "plt.title('Scatter plot')\n",
    "plt.xlabel('Independent variable')\n",
    "plt.ylabel('Dependent variable')\n",
    "plt.grid()\n",
    "plt.tick_params(which='both', direction='out')\n",
    "plt.colorbar();"
   ]
  },
  {
   "cell_type": "markdown",
   "id": "f6d2b082",
   "metadata": {},
   "source": [
    "Both the _x_ and _y_ axes are linear. We can change this to log scales. We start by generating values for plots and then plot with the _y_ axis scale set to $\\log_{10}$."
   ]
  },
  {
   "cell_type": "code",
   "execution_count": null,
   "id": "5dc82836",
   "metadata": {},
   "outputs": [],
   "source": [
    "range(10)"
   ]
  },
  {
   "cell_type": "code",
   "execution_count": null,
   "id": "5552ef1a",
   "metadata": {},
   "outputs": [],
   "source": [
    "list(range(10))"
   ]
  },
  {
   "cell_type": "code",
   "execution_count": null,
   "id": "a1a1a303",
   "metadata": {},
   "outputs": [],
   "source": [
    "vals_for_log = [10**i for i in range(10)]\n",
    "\n",
    "plt.plot(vals_for_log, 'o--') # Single list defaults to y axis values\n",
    "plt.yscale('log')\n",
    "plt.title(r'Log scale for $y$ axis', size=16)\n",
    "plt.ylabel(r'$\\log_{10}$ scale', size=12)\n",
    "plt.grid()\n",
    "plt.tick_params(which='both', direction='out');"
   ]
  },
  {
   "cell_type": "markdown",
   "id": "58e4fc48",
   "metadata": {},
   "source": [
    "We do the same for the _x_ axis."
   ]
  },
  {
   "cell_type": "code",
   "execution_count": null,
   "id": "8dc379ce",
   "metadata": {},
   "outputs": [],
   "source": [
    "plt.plot(vals_for_log, range(10), 'o--')\n",
    "plt.xscale('log')\n",
    "plt.title('Log scale for $x$ axis', size=16)\n",
    "plt.xlabel(r'$\\log_{10}$ scale', size=12)\n",
    "plt.grid()\n",
    "plt.tick_params(which='both', direction='out');"
   ]
  },
  {
   "cell_type": "markdown",
   "id": "eed3c10d",
   "metadata": {},
   "source": [
    "The axes can use different log scales."
   ]
  },
  {
   "cell_type": "code",
   "execution_count": null,
   "id": "0daa8715",
   "metadata": {},
   "outputs": [],
   "source": [
    "vals_for_x = [10**i for i in range(1, 6)]\n",
    "vals_for_y = [2**i for i in range(1, 6)]"
   ]
  },
  {
   "cell_type": "code",
   "execution_count": null,
   "id": "6bb3b79e",
   "metadata": {},
   "outputs": [],
   "source": [
    "plt.plot(vals_for_x, vals_for_y, 'o--')\n",
    "plt.semilogx() # Default is base=10\n",
    "plt.semilogy(base=2)\n",
    "plt.title('Log base 10 and log base 2', size=16)\n",
    "plt.xlabel(r'$\\log_{10}$ scale', size=12)\n",
    "plt.ylabel(r'$\\log_{2}$ scale', size=12)\n",
    "plt.grid()\n",
    "plt.tick_params(which='both', direction='out');"
   ]
  },
  {
   "cell_type": "markdown",
   "id": "9bfca2ec",
   "metadata": {},
   "source": [
    "If both axes share the same log scale, we can use the `loglog` function."
   ]
  },
  {
   "cell_type": "code",
   "execution_count": null,
   "id": "32baaa7b",
   "metadata": {},
   "outputs": [],
   "source": [
    "vals_for_x = [10**i for i in range(1, 6)]\n",
    "vals_for_y = [10**i for i in range(6, 11)]"
   ]
  },
  {
   "cell_type": "code",
   "execution_count": null,
   "id": "96784277",
   "metadata": {},
   "outputs": [],
   "source": [
    "plt.plot(vals_for_x, vals_for_y, 'o--')\n",
    "plt.loglog(base=10)\n",
    "plt.title('Log base 10 on both axes', size=16)\n",
    "plt.xlabel(r'$\\log_{10}$ scale', size=12)\n",
    "plt.ylabel(r'$\\log_{10}$ scale', size=12)\n",
    "plt.grid()\n",
    "plt.tick_params(which='both', direction='out');"
   ]
  },
  {
   "cell_type": "markdown",
   "id": "20e62c10-8d89-4adf-b942-c509d0a810d5",
   "metadata": {},
   "source": [
    "### FREQUENCY PLOTS"
   ]
  },
  {
   "cell_type": "markdown",
   "id": "2a89c811",
   "metadata": {},
   "source": [
    "Frequency plots indicate the count of binned numerical variables (intervals) or the classes (sample space elements) of categorical variables. The former is called a __histogram__ and the latter a __bar plot__. In a relative frequency plot, we divide by the sample size."
   ]
  },
  {
   "cell_type": "markdown",
   "id": "abf0cd17",
   "metadata": {},
   "source": [
    "Below, we generate random variables for two groups taken from normal distributions."
   ]
  },
  {
   "cell_type": "code",
   "execution_count": null,
   "id": "cf508a3b-0423-466c-b78d-06329e59ebcb",
   "metadata": {},
   "outputs": [],
   "source": [
    "var_group_1 = np.random.normal(loc=100, scale=10, size=1000)\n",
    "var_group_2 = np.random.normal(loc=98, scale=15, size=1000)"
   ]
  },
  {
   "cell_type": "markdown",
   "id": "cb45c553-2683-4e7e-afe1-12f9eea4dce7",
   "metadata": {},
   "source": [
    "We start once again with a bare bones histogram."
   ]
  },
  {
   "cell_type": "code",
   "execution_count": null,
   "id": "0a047224-bb00-4680-aa01-bcee2e8bee50",
   "metadata": {},
   "outputs": [],
   "source": [
    "plt.hist(var_group_1)"
   ]
  },
  {
   "cell_type": "markdown",
   "id": "0006bc44",
   "metadata": {},
   "source": [
    "Two array and a plot are returned. The first array indicates the frequency (count) of values in each bin. The second array indicates the intervals created by matplotlib. We can overwrite the intervals. Below, we create eight intervals (requiring nine values)."
   ]
  },
  {
   "cell_type": "code",
   "execution_count": null,
   "id": "b918c3a8-650e-47a5-ad01-827490fcc5ff",
   "metadata": {},
   "outputs": [],
   "source": [
    "bin_intv = [10 * i for i in range(6, 15)]\n",
    "bin_intv"
   ]
  },
  {
   "cell_type": "markdown",
   "id": "7fe14322",
   "metadata": {},
   "source": [
    "The `bins` argument can now be set to these intervals."
   ]
  },
  {
   "cell_type": "code",
   "execution_count": null,
   "id": "e3198de8-8e89-4a53-95ee-4faebe9272c2",
   "metadata": {},
   "outputs": [],
   "source": [
    "plt.hist(var_group_1, bins=bin_intv, color='gray');"
   ]
  },
  {
   "cell_type": "markdown",
   "id": "f7fb8f29",
   "metadata": {},
   "source": [
    "We can also simply specify the number of bins. Below, we create a histogram for both groups. The first sets the number of bins to $10$ and the second specifies the intervals. The histogram type, `histtype`, is set to `step`. This shows the outlines of the bars only. We also add a legend, specifying a single column setup, with the set legend outside of the plot using the `bbox_to_anchor` argument. The assigned tuple uses relative positioning where the left lower corner of the figure is `(0, 0)` and the top right is `(1, 1)`. We also specify the `loc` argument to fit the top left corner of the legend to the specified spot of the `bbox_to_anchor` argument. Finally, we remove the border from the legend and add a title."
   ]
  },
  {
   "cell_type": "code",
   "execution_count": null,
   "id": "53e42bba-1301-4d91-9f9f-7c0cc2ea6272",
   "metadata": {},
   "outputs": [],
   "source": [
    "plt.figure(figsize=(10, 5))\n",
    "plt.hist(var_group_1, bins=10, histtype='step', label='Group 1')\n",
    "plt.hist(var_group_2, bins=bin_intv, histtype='step', label='Group 2')\n",
    "plt.legend(fontsize=8, bbox_to_anchor=(1.05, 1), loc='upper left', frameon=False, title='Groups')\n",
    "plt.title('Frequency plot')\n",
    "plt.xlabel('Variable value')\n",
    "plt.ylabel('Frequency')\n",
    "plt.tick_params(which='both', direction='out');"
   ]
  },
  {
   "cell_type": "markdown",
   "id": "3c26ac65",
   "metadata": {},
   "source": [
    "The `stepfilled` value for the `histtype` argument fills the histogram with color. We also add some transparency using the `alpha` argument."
   ]
  },
  {
   "cell_type": "code",
   "execution_count": null,
   "id": "3597b708",
   "metadata": {},
   "outputs": [],
   "source": [
    "plt.figure(figsize=(10, 5))\n",
    "plt.hist(var_group_1, bins=10, histtype='stepfilled', alpha=0.5, label='Group 1')\n",
    "plt.hist(var_group_2, bins=bin_intv, histtype='stepfilled', alpha=0.5, label='Group 2')\n",
    "plt.legend(fontsize=8, bbox_to_anchor=(1.05, 1), loc='upper left', frameon=False, title='Groups')\n",
    "plt.title('Frequency plot')\n",
    "plt.xlabel('Variable value')\n",
    "plt.ylabel('Frequency')\n",
    "plt.tick_params(which='both', direction='out');"
   ]
  },
  {
   "cell_type": "markdown",
   "id": "bd69fd0d",
   "metadata": {},
   "source": [
    "The `hist2d` function creates a two-dimensional histogram (heat map)."
   ]
  },
  {
   "cell_type": "code",
   "execution_count": null,
   "id": "ad74ac08",
   "metadata": {},
   "outputs": [],
   "source": [
    "x = np.random.normal(loc=0, scale=1, size=10000)\n",
    "y = np.random.normal(loc=0, scale=1, size=10000)\n",
    "\n",
    "plt.hist2d(x, y, bins=30)\n",
    "plt.colorbar().set_label('Frequency in bin');"
   ]
  },
  {
   "cell_type": "markdown",
   "id": "6991b720",
   "metadata": {},
   "source": [
    "The `hexbin` function generates regular six-sided polygons."
   ]
  },
  {
   "cell_type": "code",
   "execution_count": null,
   "id": "7f81235a",
   "metadata": {},
   "outputs": [],
   "source": [
    "plt.hexbin(x, y, gridsize=30, cmap='Reds')\n",
    "plt.colorbar().set_label('Frequency in bin');"
   ]
  },
  {
   "cell_type": "markdown",
   "id": "46de3d59-aa0f-4071-a412-42d8c8fd97a0",
   "metadata": {},
   "source": [
    "The classes or sample space elements of a categorical variable can also be visualised as a frequency chart. In this case, we use a bar chart. There are spaces between the bars to indicate that the variable is not continuous numerical as in a histogram with no spaces between the bars."
   ]
  },
  {
   "cell_type": "code",
   "execution_count": null,
   "id": "cc5b0efb-e423-498b-bf40-f6f8d90c898a",
   "metadata": {},
   "outputs": [],
   "source": [
    "classes = ['A', 'B', 'C', 'D']"
   ]
  },
  {
   "cell_type": "code",
   "execution_count": null,
   "id": "fe01fbec-6a2a-428c-9ff6-49afbe626cca",
   "metadata": {},
   "outputs": [],
   "source": [
    "cat_group_1 = np.random.choice(classes, 500)\n",
    "cat_group_2 = np.random.choice(classes, 500)"
   ]
  },
  {
   "cell_type": "code",
   "execution_count": null,
   "id": "22b91c93-a89a-4810-80f4-c2f9e1b866ec",
   "metadata": {},
   "outputs": [],
   "source": [
    "np.unique(cat_group_1, return_counts=True)"
   ]
  },
  {
   "cell_type": "code",
   "execution_count": null,
   "id": "efe7cc8b-e0d4-4e21-9baa-b9f9c699613a",
   "metadata": {},
   "outputs": [],
   "source": [
    "cnts_1 = np.unique(cat_group_1, return_counts=True)[1]\n",
    "cnts_2 = np.unique(cat_group_2, return_counts=True)[1]"
   ]
  },
  {
   "cell_type": "markdown",
   "id": "aecbef4d-1b63-4c61-b770-48788176c715",
   "metadata": {},
   "source": [
    "We have to subtract and add to the _x_ axis value using a numpy array, and then set the width to generate grouped bar plots. Below, we subtract $0.2$ and add $0.2$ and set a width of $0.4$. The four numerical _x_ axis values are then changed using the `xticks` function."
   ]
  },
  {
   "cell_type": "code",
   "execution_count": null,
   "id": "2e27e7aa-6bf6-47fb-9414-c8da9feed172",
   "metadata": {},
   "outputs": [],
   "source": [
    "plt.figure(figsize=(10, 5))\n",
    "plt.bar(np.arange(4)-0.2, cnts_1, 0.4, label='Group 1', color='gray')\n",
    "plt.bar(np.arange(4)+0.2, cnts_2, 0.4, label='Group 2', color='lightgray')\n",
    "plt.xticks(range(4), classes) # Replace 1, 2, 3, 4 with A, B, C, D\n",
    "plt.legend(loc='upper right', fontsize=10, ncol=2)\n",
    "plt.ylim(top=160); # Adding a margin for legend"
   ]
  },
  {
   "cell_type": "markdown",
   "id": "247c6950",
   "metadata": {},
   "source": [
    "### BAR PLOTS FOR STATISTICS"
   ]
  },
  {
   "cell_type": "markdown",
   "id": "9ca28345",
   "metadata": {},
   "source": [
    "Bar plots can also be used to indicate statistics such as mean and standard deviation. Below, we generate some data for the coefficient of thermal expansion of two metals. The height of the bars indicate the means and the error bars visualise the standard deviation."
   ]
  },
  {
   "cell_type": "code",
   "execution_count": null,
   "id": "c846332d",
   "metadata": {},
   "outputs": [],
   "source": [
    "aluminium = np.random.normal(loc=0.00004, scale=0.000015, size=100)\n",
    "copper = np.random.normal(loc=0.000025, scale=0.00001, size=100)"
   ]
  },
  {
   "cell_type": "code",
   "execution_count": null,
   "id": "1a7f3378",
   "metadata": {},
   "outputs": [],
   "source": [
    "al_mean = np.mean(aluminium)\n",
    "al_std = np.std(aluminium, ddof=1)\n",
    "\n",
    "cu_mean = np.mean(copper)\n",
    "cu_std = np.std(copper, ddof=1)"
   ]
  },
  {
   "cell_type": "markdown",
   "id": "6a106f19",
   "metadata": {},
   "source": [
    "The `bar` function generates a bar plot. On the $x$ axis we place the values $0$ and $1$ by using the `range` function. We overwrite the numerical $x$ axis values with the `xticks` function."
   ]
  },
  {
   "cell_type": "code",
   "execution_count": null,
   "id": "f9161bb4",
   "metadata": {},
   "outputs": [],
   "source": [
    "plt.figure(figsize=(5, 5))\n",
    "plt.bar(range(2),\n",
    "        [al_mean, cu_mean],\n",
    "        0.8, # Width\n",
    "        yerr=[al_std, cu_std],\n",
    "        align='center',\n",
    "        capsize=8,\n",
    "        color='gray',\n",
    "        alpha=0.5)\n",
    "plt.title('Coefficient of thermal expansion')\n",
    "plt.xticks(range(2), ['Aluminium', 'Copper'])\n",
    "plt.ylabel('Coefficient of thermal expansion $[{}^{o}C^{-1}]$');"
   ]
  },
  {
   "cell_type": "markdown",
   "id": "e17357ff",
   "metadata": {},
   "source": [
    "Since the bar can appear at the left and right limits of the plot we can add limits to the $x$ axis. Below we use the `xlim` function and set the arguments `-0.5, 1.5`."
   ]
  },
  {
   "cell_type": "code",
   "execution_count": null,
   "id": "ebc85f27",
   "metadata": {},
   "outputs": [],
   "source": [
    "plt.figure(figsize=(5, 5))\n",
    "plt.bar(range(2),\n",
    "        [al_mean, cu_mean],\n",
    "        0.4,\n",
    "        yerr=[al_std, cu_std],\n",
    "        align='center',\n",
    "        capsize=8,\n",
    "        color='gray',\n",
    "        alpha=0.5)\n",
    "plt.title('Coefficient of thermal expansion')\n",
    "plt.xticks(range(2), ['Aluminium', 'Copper'])\n",
    "plt.ylabel('Coefficient of thermal expansion $[{}^{o}C^{-1}]$')\n",
    "plt.xlim(-0.5, 1.5);"
   ]
  },
  {
   "cell_type": "markdown",
   "id": "b405e1f5-f920-442a-ae3a-1bd584de8872",
   "metadata": {},
   "source": [
    "The `errorbar` function can be used separately."
   ]
  },
  {
   "cell_type": "code",
   "execution_count": null,
   "id": "30529018-77c0-4ac5-ade3-a8d4c2727064",
   "metadata": {},
   "outputs": [],
   "source": [
    "plt.figure(figsize=(5, 5))\n",
    "plt.bar(range(2),\n",
    "        [al_mean, cu_mean],\n",
    "        0.4,\n",
    "        color='lightgray')\n",
    "plt.errorbar(range(2),\n",
    "             [al_mean, cu_mean],\n",
    "             yerr=[al_std, cu_std],\n",
    "             fmt=\"o\", # Data marker\n",
    "             color=\"r\")\n",
    "plt.title('Coefficient of thermal expansion', size=16)\n",
    "plt.xticks(range(2), ['Aluminium', 'Copper'])\n",
    "plt.ylabel('Coefficient of thermal expansion $[{}^{o}C^{-1}]$', size=12)\n",
    "plt.xlim(-0.5, 1.5);"
   ]
  },
  {
   "cell_type": "markdown",
   "id": "dfdab09c-64fe-4029-abf0-2f0cc6535bb2",
   "metadata": {},
   "source": [
    "The error bars can be used on their own."
   ]
  },
  {
   "cell_type": "code",
   "execution_count": null,
   "id": "477e7fef-6f3f-4c27-b73f-0189e86a97dd",
   "metadata": {},
   "outputs": [],
   "source": [
    "plt.errorbar(range(2),\n",
    "             [al_mean, cu_mean],\n",
    "             yerr=[al_std, cu_std],\n",
    "             fmt=\"d\", # Diamond\n",
    "             color=\"r\")\n",
    "plt.title(r'Coefficient of thermal expansion ($\\mu , \\; \\sigma$)')\n",
    "plt.xticks(range(2), ['Aluminium', 'Copper'])\n",
    "plt.ylabel('Coefficient of thermal expansion $[{}^{o}C^{-1}]$')\n",
    "plt.ylim(0, 0.00006) # Including zero\n",
    "plt.grid()\n",
    "plt.xlim(-0.5, 1.5);"
   ]
  },
  {
   "cell_type": "markdown",
   "id": "7f7332e4-3af2-48f2-82f3-a410977a29e6",
   "metadata": {},
   "source": [
    "### BOX AND WHISKER PLOTS"
   ]
  },
  {
   "cell_type": "markdown",
   "id": "14b7544f",
   "metadata": {},
   "source": [
    "Box-and-whisker plots also give an indication of the distribution of values for a numerical variable. Below, we use the `boxplot` function to visualise the same information as in the histograms above."
   ]
  },
  {
   "cell_type": "code",
   "execution_count": null,
   "id": "c17db943-52d5-4ed7-94cf-b4f328746cee",
   "metadata": {},
   "outputs": [],
   "source": [
    "plt.figure(figsize=(10, 5))\n",
    "plt.boxplot([var_group_1, var_group_2],\n",
    "            flierprops={'marker':'D'}, # Suspected outliers are diamonds\n",
    "            meanline=True, # Calculate mean\n",
    "            showmeans=True, # Show mean\n",
    "            notch=True, # To indicate CI\n",
    "            bootstrap=5000) # 95% CI around the median\n",
    "plt.title('Box-and-whisker plot for variable values in two groups')\n",
    "plt.xlabel('Group')\n",
    "plt.ylabel('Variable value')\n",
    "plt.xticks([1, 2],['Group 1', 'Group 2']) # Change 1 and 2 to Group 1 and Group 2\n",
    "plt.tick_params(which='both', direction='in')\n",
    "plt.grid()\n",
    "ax = plt.gca() # Note on these two last lines below\n",
    "ax.set_frame_on(False);"
   ]
  },
  {
   "cell_type": "markdown",
   "id": "4caea185-d965-489e-92bd-9740af6ab1c2",
   "metadata": {},
   "source": [
    "## OBJECT ORIENTED INTERFACE"
   ]
  },
  {
   "cell_type": "markdown",
   "id": "e514fc89-9af3-4c4e-8fb0-096510e19aa5",
   "metadata": {},
   "source": [
    "More options become available when we use the object oriented matplotlib interface. You can read more about subplots [here](https://matplotlib.org/stable/gallery/subplots_axes_and_figures/subplots_demo.html)."
   ]
  },
  {
   "cell_type": "markdown",
   "id": "1849673e",
   "metadata": {},
   "source": [
    "When using the pyplot module, a single plot is created."
   ]
  },
  {
   "cell_type": "code",
   "execution_count": null,
   "id": "c98e19e3",
   "metadata": {},
   "outputs": [],
   "source": [
    "plt.plot(xvals, yvals_1, 'o')\n",
    "plt.title('Simple scatter plot');"
   ]
  },
  {
   "cell_type": "markdown",
   "id": "6dc828c4",
   "metadata": {},
   "source": [
    "This is actually a subplot within a figure. In matplotlib these two entities are usually assigned to the variables `fig` and `ax`. We can create a figure with a single subplot and then return more information about the current subplot using the `gca` function."
   ]
  },
  {
   "cell_type": "code",
   "execution_count": null,
   "id": "08a9dcf3",
   "metadata": {},
   "outputs": [],
   "source": [
    "plt.plot(xvals, yvals_1, 'o'); # Don't add anything else to the plot\n",
    "ax = plt.gca()"
   ]
  },
  {
   "cell_type": "markdown",
   "id": "5f70d5a8",
   "metadata": {},
   "source": [
    "The `type` function shows that `ax` is a `matplotlib.axes._subplots.AxesSubplot` object."
   ]
  },
  {
   "cell_type": "code",
   "execution_count": null,
   "id": "d5fd2b71",
   "metadata": {},
   "outputs": [],
   "source": [
    "type(ax)"
   ]
  },
  {
   "cell_type": "markdown",
   "id": "a20019c1",
   "metadata": {},
   "source": [
    "We us the object oriented interface to separate the two entities."
   ]
  },
  {
   "cell_type": "code",
   "execution_count": null,
   "id": "adc77ff8-fa89-4af1-a27b-c38c1575f16c",
   "metadata": {},
   "outputs": [],
   "source": [
    "fig, ax = plt.subplots() # Single plot"
   ]
  },
  {
   "cell_type": "markdown",
   "id": "b3c31050",
   "metadata": {},
   "source": [
    "Below, we create three rows and two columns of subplots in a figure. Since this is an arry along two dimensions, we using indexing to reference each axes in the figure."
   ]
  },
  {
   "cell_type": "code",
   "execution_count": null,
   "id": "56e4840f-53ef-4787-b771-05623258d9a2",
   "metadata": {},
   "outputs": [],
   "source": [
    "# Subplot [row] [column] indexing from single ax \n",
    "fig, ax = plt.subplots(3, 2, figsize=(16, 9)) # Three rows and two columns of plots\n",
    "\n",
    "ax1 = ax[0][0] # Indices are [row][column]\n",
    "ax1.set_title('Top left plot')\n",
    "\n",
    "ax6 = ax[2][1]\n",
    "ax6.set_title('Bottom right')\n",
    "\n",
    "plt.tight_layout() # Can fix overlapping by using padding"
   ]
  },
  {
   "cell_type": "markdown",
   "id": "c8e05d0f-1e7d-4d5d-bcfb-ca6c8817ff94",
   "metadata": {},
   "source": [
    "There are numerous ways to add axes to a figure. We will see some in the rest of the notebook. Below, we generate a figure first and then add two axes, using the `add_axes` method. It takes a list as argument where we specify the fraction (left bottom is `(0, 0)` and top right is `(1, 1)`) from the left edge and the bottom edge that the axes must take up in the fidure. The last two fractions are the width and height. We then use the same technique to generate a second axes inside the first."
   ]
  },
  {
   "cell_type": "code",
   "execution_count": null,
   "id": "a5826f0a-e352-4f00-9c06-3170362cb9b2",
   "metadata": {},
   "outputs": [],
   "source": [
    "# Add subplot from plt\n",
    "fig_1 = plt.figure(figsize=(6, 4))\n",
    "axes_1 = fig_1.add_axes([0.05, 0.05, 0.95, 0.95]) # [left, bottom, width, height]\n",
    "axes_1.set_title('Main plot')\n",
    "\n",
    "axes_2 = fig_1.add_axes([0.6, 0.6, 0.3, 0.3])\n",
    "axes_2.set_title('Inside');"
   ]
  },
  {
   "cell_type": "markdown",
   "id": "d6dee0cb",
   "metadata": {},
   "source": [
    "The frames (borders) called spines around a plot can be removed. To remove all splines, the `set_frame_on` method can be set to `False`."
   ]
  },
  {
   "cell_type": "code",
   "execution_count": null,
   "id": "649d7339",
   "metadata": {},
   "outputs": [],
   "source": [
    "fig, ax = plt.subplots(1, 1)\n",
    "ax.set_frame_on(False) # Remove all spines"
   ]
  },
  {
   "cell_type": "markdown",
   "id": "dddb4878",
   "metadata": {},
   "source": [
    "Below, we remove the top and bottom spines individually using the `set_visible` method. There are also bottom and left spines."
   ]
  },
  {
   "cell_type": "code",
   "execution_count": null,
   "id": "cee21478",
   "metadata": {},
   "outputs": [],
   "source": [
    "fig, ax = plt.subplots(1, 1)\n",
    "ax.spines['top'].set_visible(False)\n",
    "ax.spines['right'].set_visible(False)"
   ]
  },
  {
   "cell_type": "markdown",
   "id": "7430b964",
   "metadata": {},
   "source": [
    "As an example of using subplots, we create a single row of plots, with two columns. We also add a text box to the histogram."
   ]
  },
  {
   "cell_type": "code",
   "execution_count": null,
   "id": "36695fbd",
   "metadata": {},
   "outputs": [],
   "source": [
    "txt = '\\n'.join((r'$\\sigma_{1}=%.2f$'%(np.std(var_group_1)), r'$\\sigma_{2}=%.2f$'%(np.std(var_group_2))))"
   ]
  },
  {
   "cell_type": "code",
   "execution_count": null,
   "id": "991247b6-e1c0-4baf-904f-06ca78eb3bdb",
   "metadata": {},
   "outputs": [],
   "source": [
    "# Separate axes as a tuple\n",
    "fig, (ax1, ax2) = plt.subplots(1, 2, figsize=(18, 8), frameon=False)\n",
    "\n",
    "ax1.hist(var_group_1, bins=bin_intv, histtype='step', label='Group 1', lw=3, color='deepskyblue')\n",
    "ax1.hist(var_group_2, bins=bin_intv, histtype='step', label='Group 2', lw=3, color='orangered')\n",
    "ax1.legend(loc='upper right', fontsize=8, ncol=2, edgecolor='gray', facecolor='lightgrey')\n",
    "ax1.set_title('Frequency plot')\n",
    "ax1.set_xlabel('Variable value')\n",
    "ax1.set_ylabel('Frequency')\n",
    "ax1.text(65, 200, txt, bbox={'facecolor':'white', 'edgecolor':'gray'})\n",
    "ax1.tick_params(which='both', direction='out')\n",
    "ax1.grid()\n",
    "\n",
    "ax2.boxplot([var_group_1, var_group_2], flierprops={'marker':'D'})\n",
    "ax2.set_title('Box-and-whisker plot for variable values in two groups')\n",
    "ax2.set_xlabel('Group')\n",
    "ax2.set_ylabel('Variable value')\n",
    "ax2.yaxis.grid(True)\n",
    "ax2.set_xticklabels(['Group 1', 'Group 2'])\n",
    "ax2.tick_params(which='both', direction='out')\n",
    "ax2.set_frame_on(False)\n",
    "\n",
    "fig.text(0.5, -0.05, 'Experiment 1', ha='center', fontsize=12);"
   ]
  },
  {
   "cell_type": "markdown",
   "id": "aeb6c410",
   "metadata": {},
   "source": [
    "In line $9$ above where we have `ax1.text` we set the _x_ and _y_ coordinates according to the axes tick values of the plot. If we use the keyword argument and value `transform=ax1.transAxes` the coordinates will be detached from the tick values. Now $0,0$ will be the left bottom corner and $1,1$ will be the top right corner."
   ]
  },
  {
   "cell_type": "markdown",
   "id": "46667bf4",
   "metadata": {},
   "source": [
    "The gridspec module allows even more flexibility when it comes to plots. Below, we incorporate three of our previous plots in two rows. The top row spans a single plot and the bottom row has plots in two columns."
   ]
  },
  {
   "cell_type": "code",
   "execution_count": null,
   "id": "95a2f3c5",
   "metadata": {},
   "outputs": [],
   "source": [
    "fig = plt.figure(tight_layout=True, figsize=(16, 9))\n",
    "gs = gridspec.GridSpec(2, 2)\n",
    "\n",
    "ax1 = fig.add_subplot(gs[0, :])\n",
    "ax1.plot(xvals, yvals_1)\n",
    "ax1.set_title('Basic plot')\n",
    "\n",
    "ax2 = fig.add_subplot(gs[1, 0])\n",
    "ax2.plot(xvals, yvals_1, marker_type, color=color_1, lw=lw, ms=ms, label=label_1)\n",
    "ax2.plot(xvals, yvals_2, marker_type, color=color_2, lw=lw, ms=ms, label=label_2)\n",
    "ax2.legend(loc='upper right', fontsize=8)\n",
    "ax2.set_xlabel(r'Time $\\left[ \\mu s \\right]$')\n",
    "ax2.set_ylabel('Position [cm]')\n",
    "ax2.set_title('Position over time')\n",
    "ax2.tick_params(which='both', direction='in')\n",
    "ax2.grid(True)\n",
    "\n",
    "ax3 = fig.add_subplot(gs[1, 1])\n",
    "ax3.plot(xvals, yvals_1, 'o', color=color_1, ms=ms, label=label_1)\n",
    "ax3.plot(xvals, yvals_2, 'o', color=color_2, ms=ms, label=label_2)\n",
    "ax3.plot(xvals_model, yvals_model, '-', label='Model')\n",
    "ax3.legend(loc='upper right', fontsize=8, ncol=3)\n",
    "ax3.set_xlabel(r'Time $\\left[ \\mu s \\right]$')\n",
    "ax3.set_ylim(top=1.5)\n",
    "ax3.set_title('Position over time and model')\n",
    "ax3.tick_params(which='both', direction='in')\n",
    "ax3.grid(True);"
   ]
  },
  {
   "cell_type": "markdown",
   "id": "b9f026f1",
   "metadata": {},
   "source": [
    "You will have noticed that not all functions have the same names when comparing the plotting and the object-oriented formats. Below is a list of some of the differences.\n",
    "\n",
    "- `xlabel` $\\to$ `set_xlabel`\n",
    "- `ylabel` $\\to$ `set_ylabel`\n",
    "- `xlim` $\\to$ `set_xlim`\n",
    "- `ylim` $\\to$ `set_ylim`\n",
    "- `title` $\\to$ `set_title`"
   ]
  },
  {
   "cell_type": "markdown",
   "id": "cc3d76bb",
   "metadata": {},
   "source": [
    "There is a simple `set` function that can take many settings arguments."
   ]
  },
  {
   "cell_type": "code",
   "execution_count": null,
   "id": "4159fc5d",
   "metadata": {},
   "outputs": [],
   "source": [
    "fig, ax = plt.subplots()\n",
    "ax.plot(xvals, yvals_1)\n",
    "ax.set(xlim=(0, 13), xlabel=r'Time $\\left[ \\mu s \\right]$', ylabel=r'Position $\\left[ cm \\right]$',\n",
    "      title='Position over time');"
   ]
  },
  {
   "cell_type": "markdown",
   "id": "fbf82d7c",
   "metadata": {},
   "source": [
    "## PLOTS FOR FUNCTIONS AND VECTORS"
   ]
  },
  {
   "cell_type": "markdown",
   "id": "b8574a07",
   "metadata": {},
   "source": [
    "### CONTOUR PLOTS"
   ]
  },
  {
   "cell_type": "markdown",
   "id": "efc2b331",
   "metadata": {},
   "source": [
    "There are two types of contour plots. The `contourf` function creates filled contour plots and the `contour` function creates contour lines only (without the colour fill)."
   ]
  },
  {
   "cell_type": "markdown",
   "id": "a5c6173d",
   "metadata": {},
   "source": [
    "Below, we consider the function $f \\left( x,y \\right) = x^{2} + y^{2}$."
   ]
  },
  {
   "cell_type": "markdown",
   "id": "42473c20",
   "metadata": {},
   "source": [
    "We have to use numpy to set up a grid of _x_ and _y_ coordinates. The `linspace` function can generate an array of values that we can use for both axes. We calculate coordinate values for each point on the grid and assign the function to it."
   ]
  },
  {
   "cell_type": "code",
   "execution_count": null,
   "id": "9938aaaa",
   "metadata": {},
   "outputs": [],
   "source": [
    "_ = np.linspace(-1, 1, 200)\n",
    "X, Y = np.meshgrid(_, _)\n",
    "f = X**2 + Y**2"
   ]
  },
  {
   "cell_type": "markdown",
   "id": "feebd3e7",
   "metadata": {},
   "source": [
    "Now, we create a filled contour plot."
   ]
  },
  {
   "cell_type": "code",
   "execution_count": null,
   "id": "90c402ce",
   "metadata": {},
   "outputs": [],
   "source": [
    "plt.contourf(X, Y, f, levels=60, cmap='inferno')\n",
    "plt.colorbar(label='Value of $f(x,y)$')\n",
    "plt.title('Filled contour plot');"
   ]
  },
  {
   "cell_type": "markdown",
   "id": "6d741d73",
   "metadata": {},
   "source": [
    "We can add the `vmin` or the `vmax` arguments to the `contourf` function. Either of these can be used to set the limit beyond which the colour is constant. This is helpful for infinities."
   ]
  },
  {
   "cell_type": "markdown",
   "id": "59bfd416",
   "metadata": {},
   "source": [
    "Instead of a filled contour plot, we an view only the contour lines. Below, we add values to the contours themselves instead of adding a color bar."
   ]
  },
  {
   "cell_type": "code",
   "execution_count": null,
   "id": "a3260423",
   "metadata": {},
   "outputs": [],
   "source": [
    "C = plt.contour(X, Y, f, levels=10, cmap='plasma')\n",
    "plt.clabel(C, fontsize=12)\n",
    "plt.title('Contour plot with values');"
   ]
  },
  {
   "cell_type": "markdown",
   "id": "2dd76225",
   "metadata": {},
   "source": [
    "### QUIVER PLOTS"
   ]
  },
  {
   "cell_type": "markdown",
   "id": "3e2ebfd0",
   "metadata": {},
   "source": [
    "Quiver plots generate vectors. A vector takes an initial _x_ and _y_ coordinate and then a magnitude for each of the two coordinate directions."
   ]
  },
  {
   "cell_type": "code",
   "execution_count": null,
   "id": "84b807fc",
   "metadata": {},
   "outputs": [],
   "source": [
    "# Coordinate positions for tail of vector\n",
    "x_pos = 0\n",
    "y_pos = 0\n",
    "\n",
    "# Magnitude for x and y directions (not to scale)\n",
    "x_direct = 2\n",
    "y_direct = 1"
   ]
  },
  {
   "cell_type": "markdown",
   "id": "8286707d",
   "metadata": {},
   "source": [
    "We now plot the vector and with the values above and set the _x_ axis and _y_ axis limits."
   ]
  },
  {
   "cell_type": "code",
   "execution_count": null,
   "id": "7f44e249",
   "metadata": {},
   "outputs": [],
   "source": [
    "fig, ax = plt.subplots(figsize=(5, 5))\n",
    "ax.quiver(x_pos, y_pos, x_direct, y_direct, scale=5) # Scale the magnitude\n",
    "ax.axis([-0.01,0.03, -0.01, 0.03]) # Axes limits\n",
    "ax.set_aspect('equal'); # Set equal aspect ratio for the axes"
   ]
  },
  {
   "cell_type": "markdown",
   "id": "e3b6d280",
   "metadata": {},
   "source": [
    "We do not create individual vectors for a vector field. Below we see a function, $\\mathbf{F}$, representing a vector field."
   ]
  },
  {
   "cell_type": "markdown",
   "id": "a9507b07",
   "metadata": {},
   "source": [
    "$$\\mathbf{F} = \\frac{x}{5} \\hat{i} - \\frac{y}{5} \\hat{j} \\\\ \\mathbf{F}\\left( x,y \\right) = \\left( \\frac{x}{5}, -\\frac{y}{5} \\right)$$"
   ]
  },
  {
   "cell_type": "markdown",
   "id": "927120d1",
   "metadata": {},
   "source": [
    "We use the `meshgrid` function again. The variables `u` and `v` hold the components of $\\mathbf{F}$."
   ]
  },
  {
   "cell_type": "code",
   "execution_count": null,
   "id": "7e4131a1",
   "metadata": {},
   "outputs": [],
   "source": [
    "_ = np.arange(0, 2.2, 0.2) # Starting points"
   ]
  },
  {
   "cell_type": "code",
   "execution_count": null,
   "id": "195dc170",
   "metadata": {},
   "outputs": [],
   "source": [
    "X, Y = np.meshgrid(_, _) # Mesh of x and y coordinates\n",
    "u = X/5 # x direction\n",
    "v = -Y/5 # y direction"
   ]
  },
  {
   "cell_type": "markdown",
   "id": "50cdec75",
   "metadata": {},
   "source": [
    "The `quiver` function creates multiple vectors demonstrating the vector field."
   ]
  },
  {
   "cell_type": "code",
   "execution_count": null,
   "id": "e3689e0e",
   "metadata": {},
   "outputs": [],
   "source": [
    "fig, ax = plt.subplots(figsize=(7,7))\n",
    "ax.quiver(X, Y, u, v)\n",
    "ax.axis([-0.2, 2.3, -0.2, 2.1])\n",
    "ax.set_aspect('equal')\n",
    "ax.set_title('Vector field $\\mathbf{F}$')\n",
    "ax.text(0, 0,\n",
    "        r'$\\vec{F} = \\frac{x}{5} \\hat{i} - \\frac{y}{5} \\hat{j}$',\n",
    "        fontdict={'fontsize':14},\n",
    "        bbox={'facecolor':'white', 'edgecolor':'gray'});"
   ]
  },
  {
   "cell_type": "markdown",
   "id": "cb9c422e",
   "metadata": {},
   "source": [
    "We can also use the `quiver` function for a gradient field. We start with a multivariable function shown below."
   ]
  },
  {
   "cell_type": "markdown",
   "id": "588d3d40",
   "metadata": {},
   "source": [
    "$$f \\left( x,y \\right) = x^{2} - y^{2}$$"
   ]
  },
  {
   "cell_type": "markdown",
   "id": "57d5c014",
   "metadata": {},
   "source": [
    "We are interested in the gradient."
   ]
  },
  {
   "cell_type": "markdown",
   "id": "308b7b25",
   "metadata": {},
   "source": [
    "$$\\nabla f = \\left( \\frac{\\partial{f}}{\\partial{x}} , \\frac{\\partial{f}}{\\partial{y}} \\right) = \\left( f_{x} , f_{y} \\right)$$"
   ]
  },
  {
   "cell_type": "markdown",
   "id": "a3eca388",
   "metadata": {},
   "source": [
    "Sympy can be used to calculate the partial derivatives analytically. We set the variables `x` and `y` to be mathematical symbols."
   ]
  },
  {
   "cell_type": "code",
   "execution_count": null,
   "id": "73eebac6",
   "metadata": {},
   "outputs": [],
   "source": [
    "x, y = sym.symbols('x y')"
   ]
  },
  {
   "cell_type": "markdown",
   "id": "46c9e41c",
   "metadata": {},
   "source": [
    "The variable `f` holds our symbolic function."
   ]
  },
  {
   "cell_type": "code",
   "execution_count": null,
   "id": "0807a4bd",
   "metadata": {},
   "outputs": [],
   "source": [
    "f = x**2 - y**2\n",
    "f"
   ]
  },
  {
   "cell_type": "markdown",
   "id": "f3958f32",
   "metadata": {},
   "source": [
    "We consider the partial derivative of $f$ with respect to $x$, written as $f_{x}$ using the `diff` method."
   ]
  },
  {
   "cell_type": "code",
   "execution_count": null,
   "id": "f96af182",
   "metadata": {},
   "outputs": [],
   "source": [
    "f.diff(x) # First derivative of f with respect to x"
   ]
  },
  {
   "cell_type": "markdown",
   "id": "0940e034",
   "metadata": {},
   "source": [
    "The partial derivative of $f$ with respect to $y$ is written as $f_{y}$."
   ]
  },
  {
   "cell_type": "code",
   "execution_count": null,
   "id": "adf1fccc",
   "metadata": {},
   "outputs": [],
   "source": [
    "f.diff(y) # First derivative of f with respect to x"
   ]
  },
  {
   "cell_type": "markdown",
   "id": "0873e217",
   "metadata": {},
   "source": [
    "We consider the point $p \\left( 2,2 \\right)$. Below, we calculate $f_{x} \\left( p \\right)$. The `subs` method allows us to substitute values for our variables."
   ]
  },
  {
   "cell_type": "code",
   "execution_count": null,
   "id": "5b4530a0",
   "metadata": {},
   "outputs": [],
   "source": [
    "f.diff(x).subs(x, 2).subs(y, 2)"
   ]
  },
  {
   "cell_type": "markdown",
   "id": "b876d20b",
   "metadata": {},
   "source": [
    "We also calculate $f_{y} \\left( p \\right)$."
   ]
  },
  {
   "cell_type": "code",
   "execution_count": null,
   "id": "5061a4bf",
   "metadata": {},
   "outputs": [],
   "source": [
    "f.diff(y).subs(x, 2).subs(y, 2)"
   ]
  },
  {
   "cell_type": "markdown",
   "id": "d3c6252b",
   "metadata": {},
   "source": [
    "We now have that $\\nabla f \\left( p \\right) = \\left( 4,-4 \\right)$. We can view this point on our gradient plot to make sure that our plot is accurate."
   ]
  },
  {
   "cell_type": "code",
   "execution_count": null,
   "id": "feabf955",
   "metadata": {},
   "outputs": [],
   "source": [
    "_ = np.linspace(-2, 2, 20)\n",
    "X, Y = np.meshgrid(_, _)"
   ]
  },
  {
   "cell_type": "code",
   "execution_count": null,
   "id": "6e96d356",
   "metadata": {},
   "outputs": [],
   "source": [
    "u = 2 * X # Partial drivative of f with respect to x\n",
    "v = -2 * Y # Partial drivative of f with respect to y"
   ]
  },
  {
   "cell_type": "markdown",
   "id": "3c0f0bd9",
   "metadata": {},
   "source": [
    "We now create the gradient plot. This time we assign the plot to a variable and then pass that to the `quiverkey` function. The positions are relative to the plot, with `(0, 0)` in the bottom left. We state a length and add a title to the position `E` for east of the key."
   ]
  },
  {
   "cell_type": "code",
   "execution_count": null,
   "id": "478f2847",
   "metadata": {},
   "outputs": [],
   "source": [
    "fig, ax = plt.subplots(figsize=(7, 7))\n",
    "Q = ax.quiver(X, Y, u, v)\n",
    "ax.quiverkey(Q, 0.85, 1.02, 10, '[10 units]', labelpos='E')\n",
    "ax.set_aspect('equal')\n",
    "ax.set_title('Gradient plot')\n",
    "ax.set_xlabel('$x$ axis')\n",
    "ax.set_ylabel('$y$ axis');"
   ]
  },
  {
   "cell_type": "markdown",
   "id": "c44ef118",
   "metadata": {},
   "source": [
    "The point $p$ does indeed show a slope of $\\left( 4, -4 \\right)$."
   ]
  },
  {
   "cell_type": "markdown",
   "id": "9256bc53-207d-4203-9b14-7db3c3add4d1",
   "metadata": {},
   "source": [
    "Instead of using sympy for analytical partial differentiation, we can use the `gradient` function from numpy. We set the step size the same same as when we generated the meshgrid object. Since both are the same, we only set a single value. Note that the function returns the derivative with respect to $y$ first, hence `v, u`."
   ]
  },
  {
   "cell_type": "code",
   "execution_count": null,
   "id": "ee98606f-6080-4e4a-85fb-83fd1b77403d",
   "metadata": {},
   "outputs": [],
   "source": [
    "my_f = X**2 - Y**2\n",
    "v, u = np.gradient(my_f, 0.1)"
   ]
  },
  {
   "cell_type": "code",
   "execution_count": null,
   "id": "fffca5a8-dcfb-4532-94eb-f797da20b67d",
   "metadata": {},
   "outputs": [],
   "source": [
    "fig, ax = plt.subplots(figsize=(7, 7))\n",
    "Q = ax.quiver(X, Y, u, v)\n",
    "ax.quiverkey(Q, 0.85, 1.02, 10, '[10 units]', labelpos='E')\n",
    "ax.set_aspect('equal')\n",
    "ax.set_title('Gradient plot')\n",
    "ax.set_xlabel('$x$ axis')\n",
    "ax.set_ylabel('$y$ axis');"
   ]
  },
  {
   "cell_type": "markdown",
   "id": "8e608549-e72f-46a3-bfc2-6416f9ac1000",
   "metadata": {},
   "source": [
    "Now we add the gradient vectors to a contour plot."
   ]
  },
  {
   "cell_type": "code",
   "execution_count": null,
   "id": "ed28284f-679a-4b45-a47f-babc8e0129c4",
   "metadata": {},
   "outputs": [],
   "source": [
    "fig, ax = plt.subplots(figsize=(7, 7))\n",
    "Q = ax.quiver(X, Y, u, v)\n",
    "ax.quiverkey(Q, 0.85, 1.02, 10, '[10 units]', labelpos='E')\n",
    "C = ax.contour(X, Y, my_f, levels=10, cmap='plasma')\n",
    "ax.clabel(C, inline=True, fontsize=10)\n",
    "ax.set_aspect('equal')\n",
    "ax.set_title('Gradient plot')\n",
    "ax.set_xlabel('$x$ axis')\n",
    "ax.set_ylabel('$y$ axis');"
   ]
  },
  {
   "cell_type": "markdown",
   "id": "a8502977-7059-4500-b08f-33ad2fd365b6",
   "metadata": {},
   "source": [
    "The gradient is pointing uphill and the vectors are perpendicular to the contours."
   ]
  },
  {
   "cell_type": "markdown",
   "id": "7c4a5df9",
   "metadata": {},
   "source": [
    "### STREAM PLOTS"
   ]
  },
  {
   "cell_type": "markdown",
   "id": "4e7215b2",
   "metadata": {},
   "source": [
    "Stream plots can likewise help us visualise a vector field. Below, we use sub plots to create three plots. The first is a basic stream plot of our previous function $f$. The magnitude of the vector at each coordinate point is demonstrated using colour in the second plot. The last plot uses variable line width to demonstrate the magnitude of the vector as each coordinate. We calculate the magnitude in the usual way for $\\mathbb{R}^{2}$ using $\\sqrt{x^{2} + y^{2}}$."
   ]
  },
  {
   "cell_type": "code",
   "execution_count": null,
   "id": "a389ced7",
   "metadata": {},
   "outputs": [],
   "source": [
    "fig, axes = plt.subplots(1, 3, figsize=(12, 4), sharey=True) # Set single y axis label\n",
    "\n",
    "ax = axes[0]\n",
    "ax.streamplot(X, Y, u, v)\n",
    "ax.set_title('Basic stream plot')\n",
    "\n",
    "ax = axes[1]\n",
    "magn = np.sqrt(u**2 + v**2) # Magnitude of each vector\n",
    "ax.streamplot(X, Y, u, v, color=magn, cmap='magma')\n",
    "ax.set_title('Colour stream plot')\n",
    "\n",
    "ax = axes[2]\n",
    "lw = 4 * magn / np.max(magn)\n",
    "ax.streamplot(X, Y, u, v, linewidth=lw)\n",
    "ax.set_title('Velocity stream plot');"
   ]
  },
  {
   "cell_type": "markdown",
   "id": "e29fa5a6-3020-4736-a581-2a54c46746f4",
   "metadata": {},
   "source": [
    "## SAVING PLOTS"
   ]
  },
  {
   "cell_type": "markdown",
   "id": "8141b187-24d3-409c-ad31-4edda6167113",
   "metadata": {},
   "source": [
    "A plot can be saved in may format using the `savefig` function. The os package allows us to interact with the foldder structure on our computer. We can get the working directory in which our notebook is saved using the `getcwd` function in case we need to use it when saving the plot."
   ]
  },
  {
   "cell_type": "code",
   "execution_count": null,
   "id": "7043c3b2-3303-4352-96e4-8fecf2ac06de",
   "metadata": {},
   "outputs": [],
   "source": [
    "os.getcwd()"
   ]
  },
  {
   "cell_type": "markdown",
   "id": "0aaf5e8b-decd-4292-86bc-6603b5188c24",
   "metadata": {},
   "source": [
    "In this case, I have a subfolder named `images` in the current working folder. This is where the plot will be saved."
   ]
  },
  {
   "cell_type": "code",
   "execution_count": null,
   "id": "3d4e0cef-dac8-43fe-8123-71507d2e4d0d",
   "metadata": {},
   "outputs": [],
   "source": [
    "fig.savefig('images/streamplots.png')"
   ]
  },
  {
   "cell_type": "markdown",
   "id": "1b29c06a-b11f-4483-856b-a1f58a878d7b",
   "metadata": {},
   "source": [
    "We can also specify the folder structure directly."
   ]
  },
  {
   "cell_type": "code",
   "execution_count": null,
   "id": "9c216f3e-f310-4479-a584-4c2517900959",
   "metadata": {},
   "outputs": [],
   "source": [
    "fig.savefig('/Users/juan/Desktop/streamplots.png')"
   ]
  },
  {
   "cell_type": "markdown",
   "id": "7b5b7c89",
   "metadata": {},
   "source": [
    "## ONLINE TEXTBOOK"
   ]
  },
  {
   "cell_type": "markdown",
   "id": "0b6f3688",
   "metadata": {},
   "source": [
    "https://jakevdp.github.io/PythonDataScienceHandbook/04.00-introduction-to-matplotlib.html"
   ]
  },
  {
   "cell_type": "code",
   "execution_count": null,
   "id": "42a50732",
   "metadata": {},
   "outputs": [],
   "source": []
  }
 ],
 "metadata": {
  "@webio": {
   "lastCommId": null,
   "lastKernelId": null
  },
  "kernelspec": {
   "display_name": "Python 3 (ipykernel)",
   "language": "python",
   "name": "python3"
  },
  "language_info": {
   "codemirror_mode": {
    "name": "ipython",
    "version": 3
   },
   "file_extension": ".py",
   "mimetype": "text/x-python",
   "name": "python",
   "nbconvert_exporter": "python",
   "pygments_lexer": "ipython3",
   "version": "3.9.7"
  },
  "toc-autonumbering": false,
  "toc-showcode": false,
  "toc-showmarkdowntxt": false,
  "toc-showtags": false
 },
 "nbformat": 4,
 "nbformat_minor": 5
}
